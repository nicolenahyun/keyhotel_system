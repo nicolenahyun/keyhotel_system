{
  "cells": [
    {
      "cell_type": "markdown",
      "metadata": {
        "id": "0rLelYo6uzJF"
      },
      "source": [
        "# 라이브러리 불러오기"
      ]
    },
    {
      "cell_type": "code",
      "execution_count": 22,
      "metadata": {
        "id": "yt0Hc3e1unsT"
      },
      "outputs": [],
      "source": [
        "import pandas as pd\n",
        "import numpy as np\n",
        "\n",
        "# 시각화 \n",
        "import matplotlib.pylab as plt\n",
        "import seaborn as sns\n",
        "from wordcloud import WordCloud\n",
        "sns.set_style(\"darkgrid\")\n",
        "plt.rcParams.update({'font.size': 15})\n",
        "\n",
        "# 텍스트 전처리\n",
        "import re\n",
        "\n",
        "# 경고\n",
        "import warnings\n",
        "warnings.filterwarnings(\"ignore\")"
      ]
    },
    {
      "cell_type": "markdown",
      "metadata": {
        "id": "bw09Q0z6ZIe1"
      },
      "source": [
        "# 전처리 (Preprocessing)\n",
        "- 대상 파일: data*.csv(호텔의 기본 정보 크롤링 데이터), review_list*.csv(호텔 리뷰 정보 크롤링 데이터)\n",
        "- 전처리 항목\n",
        "> 특수문자 제거 <br> 의미없는 자음, 모음 제거 <br> 이모티콘 제거 <br> 맞춤법 고치기\n",
        "\n",
        "\n",
        "\n",
        "\n",
        "\n"
      ]
    },
    {
      "cell_type": "markdown",
      "metadata": {
        "id": "6j_N0pVnao9J"
      },
      "source": [
        "# 파일 import"
      ]
    },
    {
      "cell_type": "code",
      "execution_count": 25,
      "metadata": {
        "colab": {
          "base_uri": "https://localhost:8080/",
          "height": 206
        },
        "id": "_KgK7P5xBocH",
        "outputId": "852504c9-a441-4801-a8b5-d971bcab5a46"
      },
      "outputs": [
        {
          "data": {
            "text/html": [
              "<div>\n",
              "<style scoped>\n",
              "    .dataframe tbody tr th:only-of-type {\n",
              "        vertical-align: middle;\n",
              "    }\n",
              "\n",
              "    .dataframe tbody tr th {\n",
              "        vertical-align: top;\n",
              "    }\n",
              "\n",
              "    .dataframe thead th {\n",
              "        text-align: right;\n",
              "    }\n",
              "</style>\n",
              "<table border=\"1\" class=\"dataframe\">\n",
              "  <thead>\n",
              "    <tr style=\"text-align: right;\">\n",
              "      <th></th>\n",
              "      <th>ID</th>\n",
              "      <th>region</th>\n",
              "      <th>name</th>\n",
              "      <th>star</th>\n",
              "      <th>rating</th>\n",
              "      <th>num_review</th>\n",
              "      <th>basic_info</th>\n",
              "    </tr>\n",
              "  </thead>\n",
              "  <tbody>\n",
              "    <tr>\n",
              "      <th>0</th>\n",
              "      <td>3001626</td>\n",
              "      <td>0</td>\n",
              "      <td>크라운파크호텔 서울</td>\n",
              "      <td>3</td>\n",
              "      <td>4.6</td>\n",
              "      <td>48</td>\n",
              "      <td>· 비즈니스, 관광, 문화의 중심지 명동에 위치한 크라운 파크 호텔은 서울의 역사와...</td>\n",
              "    </tr>\n",
              "    <tr>\n",
              "      <th>1</th>\n",
              "      <td>3000741</td>\n",
              "      <td>0</td>\n",
              "      <td>써미트 호텔 동대문</td>\n",
              "      <td>3</td>\n",
              "      <td>4.5</td>\n",
              "      <td>209</td>\n",
              "      <td>· 깨끗하고 쾌적했다는 투숙객들의 이용후기가 줄을 잇네요 :)· 오래된 특1급 호텔...</td>\n",
              "    </tr>\n",
              "    <tr>\n",
              "      <th>2</th>\n",
              "      <td>1000112780</td>\n",
              "      <td>0</td>\n",
              "      <td>어반스테이 더 남산</td>\n",
              "      <td>0</td>\n",
              "      <td>4.8</td>\n",
              "      <td>241</td>\n",
              "      <td>· 어반스테이 더 남산은 '비대면 체크인'으로, 안전하게 머물고 삶이 좀 더 가벼워...</td>\n",
              "    </tr>\n",
              "    <tr>\n",
              "      <th>3</th>\n",
              "      <td>3014025</td>\n",
              "      <td>0</td>\n",
              "      <td>영등포 갤럭시 호텔</td>\n",
              "      <td>0</td>\n",
              "      <td>4.1</td>\n",
              "      <td>370</td>\n",
              "      <td>· 갤럭시 관광호텔은 서울시 영등포구 버드 나루로 90번지(당산동)에 위치하여 인천...</td>\n",
              "    </tr>\n",
              "    <tr>\n",
              "      <th>4</th>\n",
              "      <td>3000607</td>\n",
              "      <td>0</td>\n",
              "      <td>호텔 더 디자이너스 홍대</td>\n",
              "      <td>0</td>\n",
              "      <td>3.7</td>\n",
              "      <td>803</td>\n",
              "      <td>· 각종 잡지 및 화보 촬영에도 사용되는 아름다운 객실에서 즐기는 특별한 휴식을 즐...</td>\n",
              "    </tr>\n",
              "  </tbody>\n",
              "</table>\n",
              "</div>"
            ],
            "text/plain": [
              "           ID  ...                                         basic_info\n",
              "0     3001626  ...  · 비즈니스, 관광, 문화의 중심지 명동에 위치한 크라운 파크 호텔은 서울의 역사와...\n",
              "1     3000741  ...  · 깨끗하고 쾌적했다는 투숙객들의 이용후기가 줄을 잇네요 :)· 오래된 특1급 호텔...\n",
              "2  1000112780  ...  · 어반스테이 더 남산은 '비대면 체크인'으로, 안전하게 머물고 삶이 좀 더 가벼워...\n",
              "3     3014025  ...  · 갤럭시 관광호텔은 서울시 영등포구 버드 나루로 90번지(당산동)에 위치하여 인천...\n",
              "4     3000607  ...  · 각종 잡지 및 화보 촬영에도 사용되는 아름다운 객실에서 즐기는 특별한 휴식을 즐...\n",
              "\n",
              "[5 rows x 7 columns]"
            ]
          },
          "execution_count": 25,
          "metadata": {},
          "output_type": "execute_result"
        }
      ],
      "source": [
        "df = pd.concat(map(pd.read_csv, ['data0.csv', 'data1.csv','data2.csv', 'data3.csv', 'data4.csv','data5.csv', 'data6.csv', 'data7.csv', 'data8.csv']))\n",
        "df = df.drop(['Unnamed: 0', 'review'], axis=1)    # 불필요한 열 삭제하기\n",
        "\n",
        "df.head()"
      ]
    },
    {
      "cell_type": "markdown",
      "metadata": {
        "id": "MulxAwe2a1cp"
      },
      "source": [
        "# 결측치 확인 및 제거"
      ]
    },
    {
      "cell_type": "code",
      "execution_count": 26,
      "metadata": {
        "colab": {
          "base_uri": "https://localhost:8080/"
        },
        "id": "KSYDd1IdV8z5",
        "outputId": "1bde84d6-45db-4006-8ff8-cf8f689387b9"
      },
      "outputs": [
        {
          "name": "stdout",
          "output_type": "stream",
          "text": [
            "<class 'pandas.core.frame.DataFrame'>\n",
            "Int64Index: 2108 entries, 0 to 134\n",
            "Data columns (total 7 columns):\n",
            " #   Column      Non-Null Count  Dtype  \n",
            "---  ------      --------------  -----  \n",
            " 0   ID          2108 non-null   int64  \n",
            " 1   region      2108 non-null   int64  \n",
            " 2   name        2108 non-null   object \n",
            " 3   star        2108 non-null   int64  \n",
            " 4   rating      2108 non-null   float64\n",
            " 5   num_review  2108 non-null   int64  \n",
            " 6   basic_info  2106 non-null   object \n",
            "dtypes: float64(1), int64(4), object(2)\n",
            "memory usage: 131.8+ KB\n"
          ]
        }
      ],
      "source": [
        "# 결측치 확인하기\n",
        "df.info()"
      ]
    },
    {
      "cell_type": "code",
      "execution_count": 27,
      "metadata": {
        "colab": {
          "base_uri": "https://localhost:8080/"
        },
        "id": "sgJzjuM-YCX6",
        "outputId": "f18bfaf3-525f-4d85-acf2-8d0ed1101e1d"
      },
      "outputs": [
        {
          "name": "stdout",
          "output_type": "stream",
          "text": [
            "<class 'pandas.core.frame.DataFrame'>\n",
            "Int64Index: 2106 entries, 0 to 134\n",
            "Data columns (total 7 columns):\n",
            " #   Column      Non-Null Count  Dtype  \n",
            "---  ------      --------------  -----  \n",
            " 0   ID          2106 non-null   int64  \n",
            " 1   region      2106 non-null   int64  \n",
            " 2   name        2106 non-null   object \n",
            " 3   star        2106 non-null   int64  \n",
            " 4   rating      2106 non-null   float64\n",
            " 5   num_review  2106 non-null   int64  \n",
            " 6   basic_info  2106 non-null   object \n",
            "dtypes: float64(1), int64(4), object(2)\n",
            "memory usage: 131.6+ KB\n"
          ]
        }
      ],
      "source": [
        "# 결측치 제거 (basic_info)\n",
        "df = df.dropna(subset=['basic_info'])\n",
        "df.info()"
      ]
    },
    {
      "cell_type": "markdown",
      "metadata": {
        "id": "hJxXKDGSuH8E"
      },
      "source": [
        "## 호텔 기본 정보 시각화"
      ]
    },
    {
      "cell_type": "code",
      "execution_count": 10,
      "metadata": {
        "colab": {
          "base_uri": "https://localhost:8080/",
          "height": 280
        },
        "id": "NcGZY5FYuPuX",
        "outputId": "a11f1c27-aa76-4a21-cf42-e394c1e3b020"
      },
      "outputs": [
        {
          "data": {
            "image/png": "[encoded data removed]",
            "text/plain": [
              "<Figure size 432x288 with 1 Axes>"
            ]
          },
          "metadata": {
            "needs_background": "light"
          },
          "output_type": "display_data"
        }
      ],
      "source": [
        "# 호텔 등급(star) 분포 시각화\n",
        "sns.countplot(df['star']);"
      ]
    },
    {
      "cell_type": "code",
      "execution_count": 11,
      "metadata": {
        "colab": {
          "base_uri": "https://localhost:8080/",
          "height": 279
        },
        "id": "U2tg50G3ugcY",
        "outputId": "b7c57705-7fe3-4686-9670-7162ed25dbaa"
      },
      "outputs": [
        {
          "data": {
            "image/png": "[encoded data removed]",
            "text/plain": [
              "<Figure size 432x288 with 1 Axes>"
            ]
          },
          "metadata": {
            "needs_background": "light"
          },
          "output_type": "display_data"
        }
      ],
      "source": [
        "# 호텔 평점(rating) 분포 시각화\n",
        "sns.countplot(df['rating']);"
      ]
    },
    {
      "cell_type": "code",
      "execution_count": null,
      "metadata": {
        "id": "p_1KDyP3YqF1"
      },
      "outputs": [],
      "source": [
        "# Join한 크롤링 데이터 csv 파일로 내보내기\n",
        "#df.to_csv('crawling_join.csv', encoding=\"utf-8-sig\")"
      ]
    },
    {
      "cell_type": "markdown",
      "metadata": {
        "id": "7AuKhj-MocVA"
      },
      "source": [
        "# 텍스트에 포함되어 있는 특수 문자 제거"
      ]
    },
    {
      "cell_type": "code",
      "execution_count": 28,
      "metadata": {
        "colab": {
          "base_uri": "https://localhost:8080/",
          "height": 206
        },
        "id": "XU-xZzMoojGl",
        "outputId": "f2943729-db55-497f-8894-876cd229f705"
      },
      "outputs": [
        {
          "data": {
            "text/html": [
              "<div>\n",
              "<style scoped>\n",
              "    .dataframe tbody tr th:only-of-type {\n",
              "        vertical-align: middle;\n",
              "    }\n",
              "\n",
              "    .dataframe tbody tr th {\n",
              "        vertical-align: top;\n",
              "    }\n",
              "\n",
              "    .dataframe thead th {\n",
              "        text-align: right;\n",
              "    }\n",
              "</style>\n",
              "<table border=\"1\" class=\"dataframe\">\n",
              "  <thead>\n",
              "    <tr style=\"text-align: right;\">\n",
              "      <th></th>\n",
              "      <th>ID</th>\n",
              "      <th>region</th>\n",
              "      <th>name</th>\n",
              "      <th>star</th>\n",
              "      <th>rating</th>\n",
              "      <th>num_review</th>\n",
              "      <th>basic_info</th>\n",
              "    </tr>\n",
              "  </thead>\n",
              "  <tbody>\n",
              "    <tr>\n",
              "      <th>0</th>\n",
              "      <td>3001626</td>\n",
              "      <td>0</td>\n",
              "      <td>크라운파크호텔 서울</td>\n",
              "      <td>3</td>\n",
              "      <td>4.6</td>\n",
              "      <td>48</td>\n",
              "      <td>비즈니스  관광  문화의 중심지 명동에 위치한 크라운 파크 호텔은 서울의 역사와...</td>\n",
              "    </tr>\n",
              "    <tr>\n",
              "      <th>1</th>\n",
              "      <td>3000741</td>\n",
              "      <td>0</td>\n",
              "      <td>써미트 호텔 동대문</td>\n",
              "      <td>3</td>\n",
              "      <td>4.5</td>\n",
              "      <td>209</td>\n",
              "      <td>깨끗하고 쾌적했다는 투숙객들의 이용후기가 줄을 잇네요     오래된 특1급 호텔...</td>\n",
              "    </tr>\n",
              "    <tr>\n",
              "      <th>2</th>\n",
              "      <td>1000112780</td>\n",
              "      <td>0</td>\n",
              "      <td>어반스테이 더 남산</td>\n",
              "      <td>0</td>\n",
              "      <td>4.8</td>\n",
              "      <td>241</td>\n",
              "      <td>어반스테이 더 남산은  비대면 체크인 으로  안전하게 머물고 삶이 좀 더 가벼워...</td>\n",
              "    </tr>\n",
              "    <tr>\n",
              "      <th>3</th>\n",
              "      <td>3014025</td>\n",
              "      <td>0</td>\n",
              "      <td>영등포 갤럭시 호텔</td>\n",
              "      <td>0</td>\n",
              "      <td>4.1</td>\n",
              "      <td>370</td>\n",
              "      <td>갤럭시 관광호텔은 서울시 영등포구 버드 나루로 90번지 당산동 에 위치하여 인천...</td>\n",
              "    </tr>\n",
              "    <tr>\n",
              "      <th>4</th>\n",
              "      <td>3000607</td>\n",
              "      <td>0</td>\n",
              "      <td>호텔 더 디자이너스 홍대</td>\n",
              "      <td>0</td>\n",
              "      <td>3.7</td>\n",
              "      <td>803</td>\n",
              "      <td>각종 잡지 및 화보 촬영에도 사용되는 아름다운 객실에서 즐기는 특별한 휴식을 즐...</td>\n",
              "    </tr>\n",
              "  </tbody>\n",
              "</table>\n",
              "</div>"
            ],
            "text/plain": [
              "           ID  ...                                         basic_info\n",
              "0     3001626  ...    비즈니스  관광  문화의 중심지 명동에 위치한 크라운 파크 호텔은 서울의 역사와...\n",
              "1     3000741  ...    깨끗하고 쾌적했다는 투숙객들의 이용후기가 줄을 잇네요     오래된 특1급 호텔...\n",
              "2  1000112780  ...    어반스테이 더 남산은  비대면 체크인 으로  안전하게 머물고 삶이 좀 더 가벼워...\n",
              "3     3014025  ...    갤럭시 관광호텔은 서울시 영등포구 버드 나루로 90번지 당산동 에 위치하여 인천...\n",
              "4     3000607  ...    각종 잡지 및 화보 촬영에도 사용되는 아름다운 객실에서 즐기는 특별한 휴식을 즐...\n",
              "\n",
              "[5 rows x 7 columns]"
            ]
          },
          "execution_count": 28,
          "metadata": {},
          "output_type": "execute_result"
        }
      ],
      "source": [
        "# basic_info, review열의 특수 문자 제거\n",
        "df[\"basic_info\"] = [re.sub('[^A-Za-z0-9가-힣]', ' ', s) for s in df[\"basic_info\"]]\n",
        "df.head()"
      ]
    },
    {
      "cell_type": "code",
      "execution_count": 30,
      "metadata": {
        "colab": {
          "base_uri": "https://localhost:8080/"
        },
        "id": "FVnQOXf1xWE2",
        "outputId": "ed80bc3f-885c-44ad-bab3-411bfbe19683"
      },
      "outputs": [
        {
          "name": "stdout",
          "output_type": "stream",
          "text": [
            "Get:1 https://cloud.r-project.org/bin/linux/ubuntu bionic-cran40/ InRelease [3,626 B]\n",
            "Ign:2 https://developer.download.nvidia.com/compute/cuda/repos/ubuntu1804/x86_64  InRelease\n",
            "Get:3 https://cloud.r-project.org/bin/linux/ubuntu bionic-cran40/ Packages [73.9 kB]\n",
            "Ign:4 https://developer.download.nvidia.com/compute/machine-learning/repos/ubuntu1804/x86_64  InRelease\n",
            "Hit:5 https://developer.download.nvidia.com/compute/cuda/repos/ubuntu1804/x86_64  Release\n",
            "Get:6 http://security.ubuntu.com/ubuntu bionic-security InRelease [88.7 kB]\n",
            "Get:7 http://ppa.launchpad.net/c2d4u.team/c2d4u4.0+/ubuntu bionic InRelease [15.9 kB]\n",
            "Hit:8 https://developer.download.nvidia.com/compute/machine-learning/repos/ubuntu1804/x86_64  Release\n",
            "Hit:9 http://archive.ubuntu.com/ubuntu bionic InRelease\n",
            "Get:11 http://archive.ubuntu.com/ubuntu bionic-updates InRelease [88.7 kB]\n",
            "Hit:13 http://ppa.launchpad.net/cran/libgit2/ubuntu bionic InRelease\n",
            "Get:14 http://archive.ubuntu.com/ubuntu bionic-backports InRelease [74.6 kB]\n",
            "Get:15 http://ppa.launchpad.net/deadsnakes/ppa/ubuntu bionic InRelease [15.9 kB]\n",
            "Get:16 http://security.ubuntu.com/ubuntu bionic-security/universe amd64 Packages [1,451 kB]\n",
            "Hit:17 http://ppa.launchpad.net/graphics-drivers/ppa/ubuntu bionic InRelease\n",
            "Get:18 http://archive.ubuntu.com/ubuntu bionic-updates/main amd64 Packages [2,898 kB]\n",
            "Get:19 http://ppa.launchpad.net/c2d4u.team/c2d4u4.0+/ubuntu bionic/main Sources [1,820 kB]\n",
            "Get:20 http://security.ubuntu.com/ubuntu bionic-security/main amd64 Packages [2,461 kB]\n",
            "Get:21 http://security.ubuntu.com/ubuntu bionic-security/restricted amd64 Packages [691 kB]\n",
            "Get:22 http://archive.ubuntu.com/ubuntu bionic-updates/universe amd64 Packages [2,229 kB]\n",
            "Get:23 http://ppa.launchpad.net/c2d4u.team/c2d4u4.0+/ubuntu bionic/main amd64 Packages [933 kB]\n",
            "Get:24 http://ppa.launchpad.net/deadsnakes/ppa/ubuntu bionic/main amd64 Packages [45.9 kB]\n",
            "Fetched 12.9 MB in 7s (1,806 kB/s)\n",
            "Reading package lists...\n",
            "Reading package lists...\n",
            "Building dependency tree...\n",
            "Reading state information...\n",
            "python-dev is already the newest version (2.7.15~rc1-1).\n",
            "g++ is already the newest version (4:7.4.0-1ubuntu2.3).\n",
            "g++ set to manually installed.\n",
            "python3-dev is already the newest version (3.6.7-1~18.04).\n",
            "python3-dev set to manually installed.\n",
            "The following additional packages will be installed:\n",
            "  fonts-dejavu-core fonts-dejavu-extra libatk-wrapper-java\n",
            "  libatk-wrapper-java-jni libgail-common libgail18 libgtk2.0-0 libgtk2.0-bin\n",
            "  libgtk2.0-common libxxf86dga1 openjdk-8-jdk-headless openjdk-8-jre\n",
            "  openjdk-8-jre-headless x11-utils\n",
            "Suggested packages:\n",
            "  gvfs openjdk-8-demo openjdk-8-source visualvm icedtea-8-plugin libnss-mdns\n",
            "  fonts-ipafont-gothic fonts-ipafont-mincho fonts-wqy-microhei\n",
            "  fonts-wqy-zenhei fonts-indic mesa-utils\n",
            "The following NEW packages will be installed:\n",
            "  fonts-dejavu-core fonts-dejavu-extra libatk-wrapper-java\n",
            "  libatk-wrapper-java-jni libgail-common libgail18 libgtk2.0-0 libgtk2.0-bin\n",
            "  libgtk2.0-common libxxf86dga1 openjdk-8-jdk openjdk-8-jdk-headless\n",
            "  openjdk-8-jre openjdk-8-jre-headless x11-utils\n",
            "0 upgraded, 15 newly installed, 0 to remove and 67 not upgraded.\n",
            "Need to get 43.5 MB of archives.\n",
            "After this operation, 163 MB of additional disk space will be used.\n",
            "Get:1 http://archive.ubuntu.com/ubuntu bionic/main amd64 libxxf86dga1 amd64 2:1.1.4-1 [13.7 kB]\n",
            "Get:2 http://archive.ubuntu.com/ubuntu bionic/main amd64 fonts-dejavu-core all 2.37-1 [1,041 kB]\n",
            "Get:3 http://archive.ubuntu.com/ubuntu bionic/main amd64 fonts-dejavu-extra all 2.37-1 [1,953 kB]\n",
            "Get:4 http://archive.ubuntu.com/ubuntu bionic/main amd64 x11-utils amd64 7.7+3build1 [196 kB]\n",
            "Get:5 http://archive.ubuntu.com/ubuntu bionic/main amd64 libatk-wrapper-java all 0.33.3-20ubuntu0.1 [34.7 kB]\n",
            "Get:6 http://archive.ubuntu.com/ubuntu bionic/main amd64 libatk-wrapper-java-jni amd64 0.33.3-20ubuntu0.1 [28.3 kB]\n",
            "Get:7 http://archive.ubuntu.com/ubuntu bionic/main amd64 libgtk2.0-common all 2.24.32-1ubuntu1 [125 kB]\n",
            "Get:8 http://archive.ubuntu.com/ubuntu bionic/main amd64 libgtk2.0-0 amd64 2.24.32-1ubuntu1 [1,769 kB]\n",
            "Get:9 http://archive.ubuntu.com/ubuntu bionic/main amd64 libgail18 amd64 2.24.32-1ubuntu1 [14.2 kB]\n",
            "Get:10 http://archive.ubuntu.com/ubuntu bionic/main amd64 libgail-common amd64 2.24.32-1ubuntu1 [112 kB]\n",
            "Get:11 http://archive.ubuntu.com/ubuntu bionic/main amd64 libgtk2.0-bin amd64 2.24.32-1ubuntu1 [7,536 B]\n",
            "Get:12 http://archive.ubuntu.com/ubuntu bionic-updates/universe amd64 openjdk-8-jre-headless amd64 8u292-b10-0ubuntu1~18.04 [28.2 MB]\n",
            "Get:13 http://archive.ubuntu.com/ubuntu bionic-updates/universe amd64 openjdk-8-jre amd64 8u292-b10-0ubuntu1~18.04 [69.6 kB]\n",
            "Get:14 http://archive.ubuntu.com/ubuntu bionic-updates/universe amd64 openjdk-8-jdk-headless amd64 8u292-b10-0ubuntu1~18.04 [8,284 kB]\n",
            "Get:15 http://archive.ubuntu.com/ubuntu bionic-updates/universe amd64 openjdk-8-jdk amd64 8u292-b10-0ubuntu1~18.04 [1,644 kB]\n",
            "Fetched 43.5 MB in 6s (7,817 kB/s)\n",
            "Selecting previously unselected package libxxf86dga1:amd64.\r\n",
            "(Reading database ... \r(Reading database ... 5%\r(Reading database ... 10%\r(Reading database ... 15%\r(Reading database ... 20%\r(Reading database ... 25%\r(Reading database ... 30%\r(Reading database ... 35%\r(Reading database ... 40%\r(Reading database ... 45%\r(Reading database ... 50%\r(Reading database ... 55%\r(Reading database ... 60%\r(Reading database ... 65%\r(Reading database ... 70%\r(Reading database ... 75%\r(Reading database ... 80%\r(Reading database ... 85%\r(Reading database ... 90%\r(Reading database ... 95%\r(Reading database ... 100%\r(Reading database ... 155222 files and directories currently installed.)\r\n",
            "Preparing to unpack .../00-libxxf86dga1_2%3a1.1.4-1_amd64.deb ...\r\n",
            "Unpacking libxxf86dga1:amd64 (2:1.1.4-1) ...\r\n",
            "Selecting previously unselected package fonts-dejavu-core.\r\n",
            "Preparing to unpack .../01-fonts-dejavu-core_2.37-1_all.deb ...\r\n",
            "Unpacking fonts-dejavu-core (2.37-1) ...\r\n",
            "Selecting previously unselected package fonts-dejavu-extra.\r\n",
            "Preparing to unpack .../02-fonts-dejavu-extra_2.37-1_all.deb ...\r\n",
            "Unpacking fonts-dejavu-extra (2.37-1) ...\r\n",
            "Selecting previously unselected package x11-utils.\r\n",
            "Preparing to unpack .../03-x11-utils_7.7+3build1_amd64.deb ...\r\n",
            "Unpacking x11-utils (7.7+3build1) ...\r\n",
            "Selecting previously unselected package libatk-wrapper-java.\r\n",
            "Preparing to unpack .../04-libatk-wrapper-java_0.33.3-20ubuntu0.1_all.deb ...\r\n",
            "Unpacking libatk-wrapper-java (0.33.3-20ubuntu0.1) ...\r\n",
            "Selecting previously unselected package libatk-wrapper-java-jni:amd64.\r\n",
            "Preparing to unpack .../05-libatk-wrapper-java-jni_0.33.3-20ubuntu0.1_amd64.deb ...\r\n",
            "Unpacking libatk-wrapper-java-jni:amd64 (0.33.3-20ubuntu0.1) ...\r\n",
            "Selecting previously unselected package libgtk2.0-common.\r\n",
            "Preparing to unpack .../06-libgtk2.0-common_2.24.32-1ubuntu1_all.deb ...\r\n",
            "Unpacking libgtk2.0-common (2.24.32-1ubuntu1) ...\r\n",
            "Selecting previously unselected package libgtk2.0-0:amd64.\r\n",
            "Preparing to unpack .../07-libgtk2.0-0_2.24.32-1ubuntu1_amd64.deb ...\r\n",
            "Unpacking libgtk2.0-0:amd64 (2.24.32-1ubuntu1) ...\r\n",
            "Selecting previously unselected package libgail18:amd64.\r\n",
            "Preparing to unpack .../08-libgail18_2.24.32-1ubuntu1_amd64.deb ...\r\n",
            "Unpacking libgail18:amd64 (2.24.32-1ubuntu1) ...\r\n",
            "Selecting previously unselected package libgail-common:amd64.\r\n",
            "Preparing to unpack .../09-libgail-common_2.24.32-1ubuntu1_amd64.deb ...\r\n",
            "Unpacking libgail-common:amd64 (2.24.32-1ubuntu1) ...\r\n",
            "Selecting previously unselected package libgtk2.0-bin.\r\n",
            "Preparing to unpack .../10-libgtk2.0-bin_2.24.32-1ubuntu1_amd64.deb ...\r\n",
            "Unpacking libgtk2.0-bin (2.24.32-1ubuntu1) ...\r\n",
            "Selecting previously unselected package openjdk-8-jre-headless:amd64.\r\n",
            "Preparing to unpack .../11-openjdk-8-jre-headless_8u292-b10-0ubuntu1~18.04_amd64.deb ...\r\n",
            "Unpacking openjdk-8-jre-headless:amd64 (8u292-b10-0ubuntu1~18.04) ...\r\n",
            "Selecting previously unselected package openjdk-8-jre:amd64.\r\n",
            "Preparing to unpack .../12-openjdk-8-jre_8u292-b10-0ubuntu1~18.04_amd64.deb ...\r\n",
            "Unpacking openjdk-8-jre:amd64 (8u292-b10-0ubuntu1~18.04) ...\r\n",
            "Selecting previously unselected package openjdk-8-jdk-headless:amd64.\r\n",
            "Preparing to unpack .../13-openjdk-8-jdk-headless_8u292-b10-0ubuntu1~18.04_amd64.deb ...\r\n",
            "Unpacking openjdk-8-jdk-headless:amd64 (8u292-b10-0ubuntu1~18.04) ...\r\n",
            "Selecting previously unselected package openjdk-8-jdk:amd64.\r\n",
            "Preparing to unpack .../14-openjdk-8-jdk_8u292-b10-0ubuntu1~18.04_amd64.deb ...\r\n",
            "Unpacking openjdk-8-jdk:amd64 (8u292-b10-0ubuntu1~18.04) ...\r\n",
            "Setting up libgtk2.0-common (2.24.32-1ubuntu1) ...\r\n",
            "Setting up fonts-dejavu-core (2.37-1) ...\r\n",
            "Setting up libxxf86dga1:amd64 (2:1.1.4-1) ...\r\n",
            "Setting up fonts-dejavu-extra (2.37-1) ...\r\n",
            "Setting up openjdk-8-jre-headless:amd64 (8u292-b10-0ubuntu1~18.04) ...\r\n",
            "update-alternatives: using /usr/lib/jvm/java-8-openjdk-amd64/jre/bin/orbd to provide /usr/bin/orbd (orbd) in auto mode\r\n",
            "update-alternatives: using /usr/lib/jvm/java-8-openjdk-amd64/jre/bin/servertool to provide /usr/bin/servertool (servertool) in auto mode\r\n",
            "update-alternatives: using /usr/lib/jvm/java-8-openjdk-amd64/jre/bin/tnameserv to provide /usr/bin/tnameserv (tnameserv) in auto mode\r\n",
            "Setting up libgtk2.0-0:amd64 (2.24.32-1ubuntu1) ...\r\n",
            "Setting up libgail18:amd64 (2.24.32-1ubuntu1) ...\r\n",
            "Setting up openjdk-8-jdk-headless:amd64 (8u292-b10-0ubuntu1~18.04) ...\r\n",
            "update-alternatives: using /usr/lib/jvm/java-8-openjdk-amd64/bin/idlj to provide /usr/bin/idlj (idlj) in auto mode\r\n",
            "update-alternatives: using /usr/lib/jvm/java-8-openjdk-amd64/bin/wsimport to provide /usr/bin/wsimport (wsimport) in auto mode\r\n",
            "update-alternatives: using /usr/lib/jvm/java-8-openjdk-amd64/bin/jsadebugd to provide /usr/bin/jsadebugd (jsadebugd) in auto mode\r\n",
            "update-alternatives: using /usr/lib/jvm/java-8-openjdk-amd64/bin/native2ascii to provide /usr/bin/native2ascii (native2ascii) in auto mode\r\n",
            "update-alternatives: using /usr/lib/jvm/java-8-openjdk-amd64/bin/javah to provide /usr/bin/javah (javah) in auto mode\r\n",
            "update-alternatives: using /usr/lib/jvm/java-8-openjdk-amd64/bin/hsdb to provide /usr/bin/hsdb (hsdb) in auto mode\r\n",
            "update-alternatives: using /usr/lib/jvm/java-8-openjdk-amd64/bin/clhsdb to provide /usr/bin/clhsdb (clhsdb) in auto mode\r\n",
            "update-alternatives: using /usr/lib/jvm/java-8-openjdk-amd64/bin/extcheck to provide /usr/bin/extcheck (extcheck) in auto mode\r\n",
            "update-alternatives: using /usr/lib/jvm/java-8-openjdk-amd64/bin/schemagen to provide /usr/bin/schemagen (schemagen) in auto mode\r\n",
            "update-alternatives: using /usr/lib/jvm/java-8-openjdk-amd64/bin/xjc to provide /usr/bin/xjc (xjc) in auto mode\r\n",
            "update-alternatives: using /usr/lib/jvm/java-8-openjdk-amd64/bin/jhat to provide /usr/bin/jhat (jhat) in auto mode\r\n",
            "update-alternatives: using /usr/lib/jvm/java-8-openjdk-amd64/bin/wsgen to provide /usr/bin/wsgen (wsgen) in auto mode\r\n",
            "Setting up x11-utils (7.7+3build1) ...\r\n",
            "Setting up libgail-common:amd64 (2.24.32-1ubuntu1) ...\r\n",
            "Setting up libatk-wrapper-java (0.33.3-20ubuntu0.1) ...\r\n",
            "Setting up libgtk2.0-bin (2.24.32-1ubuntu1) ...\r\n",
            "Setting up libatk-wrapper-java-jni:amd64 (0.33.3-20ubuntu0.1) ...\r\n",
            "Setting up openjdk-8-jre:amd64 (8u292-b10-0ubuntu1~18.04) ...\r\n",
            "update-alternatives: using /usr/lib/jvm/java-8-openjdk-amd64/jre/bin/policytool to provide /usr/bin/policytool (policytool) in auto mode\r\n",
            "Setting up openjdk-8-jdk:amd64 (8u292-b10-0ubuntu1~18.04) ...\r\n",
            "update-alternatives: using /usr/lib/jvm/java-8-openjdk-amd64/bin/appletviewer to provide /usr/bin/appletviewer (appletviewer) in auto mode\r\n",
            "update-alternatives: using /usr/lib/jvm/java-8-openjdk-amd64/bin/jconsole to provide /usr/bin/jconsole (jconsole) in auto mode\r\n",
            "Processing triggers for man-db (2.8.3-2ubuntu0.1) ...\r\n",
            "Processing triggers for hicolor-icon-theme (0.17-2) ...\r\n",
            "Processing triggers for fontconfig (2.12.6-0ubuntu2) ...\r\n",
            "Processing triggers for mime-support (3.60ubuntu1) ...\r\n",
            "Processing triggers for libc-bin (2.27-3ubuntu1.3) ...\r\n",
            "/sbin/ldconfig.real: /usr/local/lib/python3.7/dist-packages/ideep4py/lib/libmkldnn.so.0 is not a symbolic link\r\n",
            "\r\n",
            "Collecting JPype1\n",
            "  Downloading JPype1-1.3.0-cp37-cp37m-manylinux_2_5_x86_64.manylinux1_x86_64.whl (448 kB)\n",
            "Requirement already satisfied: typing-extensions in /usr/local/lib/python3.7/dist-packages (from JPype1) (3.10.0.2)\n",
            "Installing collected packages: JPype1\n",
            "Successfully installed JPype1-1.3.0\n",
            "Collecting konlpy\n",
            "  Downloading konlpy-0.5.2-py2.py3-none-any.whl (19.4 MB)\n",
            "Requirement already satisfied: tweepy>=3.7.0 in /usr/local/lib/python3.7/dist-packages (from konlpy) (3.10.0)\n",
            "Collecting beautifulsoup4==4.6.0\n",
            "  Downloading beautifulsoup4-4.6.0-py3-none-any.whl (86 kB)\n",
            "Requirement already satisfied: lxml>=4.1.0 in /usr/local/lib/python3.7/dist-packages (from konlpy) (4.2.6)\n",
            "Requirement already satisfied: JPype1>=0.7.0 in /usr/local/lib/python3.7/dist-packages (from konlpy) (1.3.0)\n",
            "Collecting colorama\n",
            "  Downloading colorama-0.4.4-py2.py3-none-any.whl (16 kB)\n",
            "Requirement already satisfied: numpy>=1.6 in /usr/local/lib/python3.7/dist-packages (from konlpy) (1.19.5)\n",
            "Requirement already satisfied: typing-extensions in /usr/local/lib/python3.7/dist-packages (from JPype1>=0.7.0->konlpy) (3.10.0.2)\n",
            "Requirement already satisfied: six>=1.10.0 in /usr/local/lib/python3.7/dist-packages (from tweepy>=3.7.0->konlpy) (1.15.0)\n",
            "Requirement already satisfied: requests-oauthlib>=0.7.0 in /usr/local/lib/python3.7/dist-packages (from tweepy>=3.7.0->konlpy) (1.3.0)\n",
            "Requirement already satisfied: requests[socks]>=2.11.1 in /usr/local/lib/python3.7/dist-packages (from tweepy>=3.7.0->konlpy) (2.23.0)\n",
            "Requirement already satisfied: oauthlib>=3.0.0 in /usr/local/lib/python3.7/dist-packages (from requests-oauthlib>=0.7.0->tweepy>=3.7.0->konlpy) (3.1.1)\n",
            "Requirement already satisfied: chardet<4,>=3.0.2 in /usr/local/lib/python3.7/dist-packages (from requests[socks]>=2.11.1->tweepy>=3.7.0->konlpy) (3.0.4)\n",
            "Requirement already satisfied: urllib3!=1.25.0,!=1.25.1,<1.26,>=1.21.1 in /usr/local/lib/python3.7/dist-packages (from requests[socks]>=2.11.1->tweepy>=3.7.0->konlpy) (1.24.3)\n",
            "Requirement already satisfied: certifi>=2017.4.17 in /usr/local/lib/python3.7/dist-packages (from requests[socks]>=2.11.1->tweepy>=3.7.0->konlpy) (2021.10.8)\n",
            "Requirement already satisfied: idna<3,>=2.5 in /usr/local/lib/python3.7/dist-packages (from requests[socks]>=2.11.1->tweepy>=3.7.0->konlpy) (2.10)\n",
            "Requirement already satisfied: PySocks!=1.5.7,>=1.5.6 in /usr/local/lib/python3.7/dist-packages (from requests[socks]>=2.11.1->tweepy>=3.7.0->konlpy) (1.7.1)\n",
            "Installing collected packages: colorama, beautifulsoup4, konlpy\n",
            "  Attempting uninstall: beautifulsoup4\n",
            "    Found existing installation: beautifulsoup4 4.6.3\n",
            "    Uninstalling beautifulsoup4-4.6.3:\n",
            "      Successfully uninstalled beautifulsoup4-4.6.3\n",
            "Successfully installed beautifulsoup4-4.6.0 colorama-0.4.4 konlpy-0.5.2\n"
          ]
        }
      ],
      "source": [
        "# bash 셸로 명령어 입력하여 라이브러리 설치하기\n",
        "\n",
        "%%bash\n",
        "apt-get update\n",
        "apt-get install g++ openjdk-8-jdk python-dev python3-dev\n",
        "pip3 install JPype1\n",
        "pip3 install konlpy"
      ]
    },
    {
      "cell_type": "code",
      "execution_count": 31,
      "metadata": {
        "colab": {
          "base_uri": "https://localhost:8080/"
        },
        "id": "IZYJuD_QyiiP",
        "outputId": "badfd3d3-ab58-4c54-cd5f-a7998ced2606"
      },
      "outputs": [
        {
          "name": "stdout",
          "output_type": "stream",
          "text": [
            "env: JAVA_HOME=\"/usr/lib/jvm/java-8-openjdk-amd64\"\n"
          ]
        }
      ],
      "source": [
        "# JAVA_HOME 환경변수 설정하기\n",
        "\n",
        "%env JAVA_HOME \"/usr/lib/jvm/java-8-openjdk-amd64\""
      ]
    },
    {
      "cell_type": "code",
      "execution_count": 74,
      "metadata": {
        "id": "6WfzvLXHx-Hw"
      },
      "outputs": [],
      "source": [
        "# okt 사용해보기 from konlpy\n",
        "from konlpy.tag import Okt\n",
        "\n",
        "okt=Okt()"
      ]
    },
    {
      "cell_type": "code",
      "execution_count": 43,
      "metadata": {
        "id": "GMaw09Lg2zzq"
      },
      "outputs": [],
      "source": [
        "df['keywords'] = df['basic_info'].apply(okt.nouns)"
      ]
    },
    {
      "cell_type": "code",
      "execution_count": 44,
      "metadata": {
        "colab": {
          "base_uri": "https://localhost:8080/",
          "height": 258
        },
        "id": "xfPV5siN34qK",
        "outputId": "cb9bb671-96a5-4ee2-fe25-6b6dace83830"
      },
      "outputs": [
        {
          "data": {
            "text/html": [
              "<div>\n",
              "<style scoped>\n",
              "    .dataframe tbody tr th:only-of-type {\n",
              "        vertical-align: middle;\n",
              "    }\n",
              "\n",
              "    .dataframe tbody tr th {\n",
              "        vertical-align: top;\n",
              "    }\n",
              "\n",
              "    .dataframe thead th {\n",
              "        text-align: right;\n",
              "    }\n",
              "</style>\n",
              "<table border=\"1\" class=\"dataframe\">\n",
              "  <thead>\n",
              "    <tr style=\"text-align: right;\">\n",
              "      <th></th>\n",
              "      <th>ID</th>\n",
              "      <th>region</th>\n",
              "      <th>name</th>\n",
              "      <th>star</th>\n",
              "      <th>rating</th>\n",
              "      <th>num_review</th>\n",
              "      <th>basic_info</th>\n",
              "      <th>keywords</th>\n",
              "    </tr>\n",
              "  </thead>\n",
              "  <tbody>\n",
              "    <tr>\n",
              "      <th>0</th>\n",
              "      <td>3001626</td>\n",
              "      <td>0</td>\n",
              "      <td>크라운파크호텔 서울</td>\n",
              "      <td>3</td>\n",
              "      <td>4.6</td>\n",
              "      <td>48</td>\n",
              "      <td>비즈니스  관광  문화의 중심지 명동에 위치한 크라운 파크 호텔은 서울의 역사와...</td>\n",
              "      <td>[비즈니스, 관광, 문화, 중심지, 명동, 위치, 크라운, 파크, 호텔, 서울, 역...</td>\n",
              "    </tr>\n",
              "    <tr>\n",
              "      <th>1</th>\n",
              "      <td>3000741</td>\n",
              "      <td>0</td>\n",
              "      <td>써미트 호텔 동대문</td>\n",
              "      <td>3</td>\n",
              "      <td>4.5</td>\n",
              "      <td>209</td>\n",
              "      <td>깨끗하고 쾌적했다는 투숙객들의 이용후기가 줄을 잇네요     오래된 특1급 호텔...</td>\n",
              "      <td>[투숙, 객, 이용, 후기, 줄, 특, 급, 호텔, 룸, 컨디션, 거, 여행, 비즈...</td>\n",
              "    </tr>\n",
              "    <tr>\n",
              "      <th>2</th>\n",
              "      <td>1000112780</td>\n",
              "      <td>0</td>\n",
              "      <td>어반스테이 더 남산</td>\n",
              "      <td>0</td>\n",
              "      <td>4.8</td>\n",
              "      <td>241</td>\n",
              "      <td>어반스테이 더 남산은  비대면 체크인 으로  안전하게 머물고 삶이 좀 더 가벼워...</td>\n",
              "      <td>[어, 스테이, 더, 남산, 비대, 체크, 삶, 좀, 더, 수, 공간, 제공, 등록...</td>\n",
              "    </tr>\n",
              "    <tr>\n",
              "      <th>3</th>\n",
              "      <td>3014025</td>\n",
              "      <td>0</td>\n",
              "      <td>영등포 갤럭시 호텔</td>\n",
              "      <td>0</td>\n",
              "      <td>4.1</td>\n",
              "      <td>370</td>\n",
              "      <td>갤럭시 관광호텔은 서울시 영등포구 버드 나루로 90번지 당산동 에 위치하여 인천...</td>\n",
              "      <td>[갤럭시, 관광, 호텔, 서울시, 영등포구, 버드, 나루, 번지, 당산동, 위치, ...</td>\n",
              "    </tr>\n",
              "    <tr>\n",
              "      <th>4</th>\n",
              "      <td>3000607</td>\n",
              "      <td>0</td>\n",
              "      <td>호텔 더 디자이너스 홍대</td>\n",
              "      <td>0</td>\n",
              "      <td>3.7</td>\n",
              "      <td>803</td>\n",
              "      <td>각종 잡지 및 화보 촬영에도 사용되는 아름다운 객실에서 즐기는 특별한 휴식을 즐...</td>\n",
              "      <td>[각종, 잡지, 및, 화보, 촬영, 사용, 객실, 휴식, 천연, 라텍스, 침대, 준...</td>\n",
              "    </tr>\n",
              "  </tbody>\n",
              "</table>\n",
              "</div>"
            ],
            "text/plain": [
              "           ID  ...                                           keywords\n",
              "0     3001626  ...  [비즈니스, 관광, 문화, 중심지, 명동, 위치, 크라운, 파크, 호텔, 서울, 역...\n",
              "1     3000741  ...  [투숙, 객, 이용, 후기, 줄, 특, 급, 호텔, 룸, 컨디션, 거, 여행, 비즈...\n",
              "2  1000112780  ...  [어, 스테이, 더, 남산, 비대, 체크, 삶, 좀, 더, 수, 공간, 제공, 등록...\n",
              "3     3014025  ...  [갤럭시, 관광, 호텔, 서울시, 영등포구, 버드, 나루, 번지, 당산동, 위치, ...\n",
              "4     3000607  ...  [각종, 잡지, 및, 화보, 촬영, 사용, 객실, 휴식, 천연, 라텍스, 침대, 준...\n",
              "\n",
              "[5 rows x 8 columns]"
            ]
          },
          "execution_count": 44,
          "metadata": {},
          "output_type": "execute_result"
        }
      ],
      "source": [
        "df.head()"
      ]
    },
    {
      "cell_type": "code",
      "execution_count": 95,
      "metadata": {
        "id": "VMrYhC2TE0xa"
      },
      "outputs": [],
      "source": [
        "def text_preprocessing(text_list):\n",
        "    \n",
        "    stopwords = ['보다', '에서', '보다', '되다', '에는', '되는', '에도'] # 불용어 설정\n",
        "    tokenizer = Okt() # 형태소 분석기 \n",
        "    token_list = []\n",
        "    \n",
        "    for text in text_list:\n",
        "        txt = re.sub('[^가-힣a-z]', ' ', text) # 한글과 영어 소문자만 남기고 다른 글자 모두 제거\n",
        "        tokens = tokenizer.morphs(txt) # 형태소 분석\n",
        "        tokens = [t for t in tokens if t not in stopwords or type(t) != float] # 형태소 분석 결과 중 stopwords에 해당하지 않는 것만 추출\n",
        "        tokens = [ token for token in tokens if len(token) > 1 ] # 한 글자인 단어는 제외\n",
        "        token_list.append(tokens)\n",
        "        \n",
        "    return token_list, tokenizer\n",
        "\n",
        "\n",
        "df['keywords'], okt = text_preprocessing(df['basic_info']) "
      ]
    },
    {
      "cell_type": "code",
      "execution_count": 96,
      "metadata": {
        "colab": {
          "base_uri": "https://localhost:8080/",
          "height": 293
        },
        "id": "vQEZXzEVFeVq",
        "outputId": "871a796d-922b-4e61-faf6-7bcdbecbe7f2"
      },
      "outputs": [
        {
          "data": {
            "text/html": [
              "<div>\n",
              "<style scoped>\n",
              "    .dataframe tbody tr th:only-of-type {\n",
              "        vertical-align: middle;\n",
              "    }\n",
              "\n",
              "    .dataframe tbody tr th {\n",
              "        vertical-align: top;\n",
              "    }\n",
              "\n",
              "    .dataframe thead th {\n",
              "        text-align: right;\n",
              "    }\n",
              "</style>\n",
              "<table border=\"1\" class=\"dataframe\">\n",
              "  <thead>\n",
              "    <tr style=\"text-align: right;\">\n",
              "      <th></th>\n",
              "      <th>ID</th>\n",
              "      <th>region</th>\n",
              "      <th>name</th>\n",
              "      <th>star</th>\n",
              "      <th>rating</th>\n",
              "      <th>num_review</th>\n",
              "      <th>basic_info</th>\n",
              "      <th>keywords</th>\n",
              "    </tr>\n",
              "  </thead>\n",
              "  <tbody>\n",
              "    <tr>\n",
              "      <th>0</th>\n",
              "      <td>3001626</td>\n",
              "      <td>0</td>\n",
              "      <td>크라운파크호텔 서울</td>\n",
              "      <td>3</td>\n",
              "      <td>4.6</td>\n",
              "      <td>48</td>\n",
              "      <td>비즈니스  관광  문화의 중심지 명동에 위치한 크라운 파크 호텔은 서울의 역사와...</td>\n",
              "      <td>[비즈니스, 관광, 문화, 중심지, 명동, 위치, 크라운, 파크, 호텔, 서울, 역...</td>\n",
              "    </tr>\n",
              "    <tr>\n",
              "      <th>1</th>\n",
              "      <td>3000741</td>\n",
              "      <td>0</td>\n",
              "      <td>써미트 호텔 동대문</td>\n",
              "      <td>3</td>\n",
              "      <td>4.5</td>\n",
              "      <td>209</td>\n",
              "      <td>깨끗하고 쾌적했다는 투숙객들의 이용후기가 줄을 잇네요     오래된 특1급 호텔...</td>\n",
              "      <td>[깨끗하고, 쾌적했다는, 투숙, 이용, 후기, 잇네요, 오래된, 호텔, 보다, 컨디...</td>\n",
              "    </tr>\n",
              "    <tr>\n",
              "      <th>2</th>\n",
              "      <td>1000112780</td>\n",
              "      <td>0</td>\n",
              "      <td>어반스테이 더 남산</td>\n",
              "      <td>0</td>\n",
              "      <td>4.8</td>\n",
              "      <td>241</td>\n",
              "      <td>어반스테이 더 남산은  비대면 체크인 으로  안전하게 머물고 삶이 좀 더 가벼워...</td>\n",
              "      <td>[스테이, 남산, 비대, 체크, 으로, 안전하게, 머물고, 가벼워, 있는, 공간, ...</td>\n",
              "    </tr>\n",
              "    <tr>\n",
              "      <th>3</th>\n",
              "      <td>3014025</td>\n",
              "      <td>0</td>\n",
              "      <td>영등포 갤럭시 호텔</td>\n",
              "      <td>0</td>\n",
              "      <td>4.1</td>\n",
              "      <td>370</td>\n",
              "      <td>갤럭시 관광호텔은 서울시 영등포구 버드 나루로 90번지 당산동 에 위치하여 인천...</td>\n",
              "      <td>[갤럭시, 관광, 호텔, 서울시, 영등포구, 버드, 나루, 번지, 당산동, 위치, ...</td>\n",
              "    </tr>\n",
              "    <tr>\n",
              "      <th>4</th>\n",
              "      <td>3000607</td>\n",
              "      <td>0</td>\n",
              "      <td>호텔 더 디자이너스 홍대</td>\n",
              "      <td>0</td>\n",
              "      <td>3.7</td>\n",
              "      <td>803</td>\n",
              "      <td>각종 잡지 및 화보 촬영에도 사용되는 아름다운 객실에서 즐기는 특별한 휴식을 즐...</td>\n",
              "      <td>[각종, 잡지, 화보, 촬영, 에도, 사용, 되는, 아름다운, 객실, 에서, 즐기는...</td>\n",
              "    </tr>\n",
              "  </tbody>\n",
              "</table>\n",
              "</div>"
            ],
            "text/plain": [
              "           ID  ...                                           keywords\n",
              "0     3001626  ...  [비즈니스, 관광, 문화, 중심지, 명동, 위치, 크라운, 파크, 호텔, 서울, 역...\n",
              "1     3000741  ...  [깨끗하고, 쾌적했다는, 투숙, 이용, 후기, 잇네요, 오래된, 호텔, 보다, 컨디...\n",
              "2  1000112780  ...  [스테이, 남산, 비대, 체크, 으로, 안전하게, 머물고, 가벼워, 있는, 공간, ...\n",
              "3     3014025  ...  [갤럭시, 관광, 호텔, 서울시, 영등포구, 버드, 나루, 번지, 당산동, 위치, ...\n",
              "4     3000607  ...  [각종, 잡지, 화보, 촬영, 에도, 사용, 되는, 아름다운, 객실, 에서, 즐기는...\n",
              "\n",
              "[5 rows x 8 columns]"
            ]
          },
          "execution_count": 96,
          "metadata": {},
          "output_type": "execute_result"
        }
      ],
      "source": [
        "df.head()"
      ]
    },
    {
      "cell_type": "markdown",
      "metadata": {
        "id": "zqVZyyNdz3-X"
      },
      "source": [
        "# 전처리한 basic_info 파일 내보내기"
      ]
    },
    {
      "cell_type": "code",
      "execution_count": 97,
      "metadata": {
        "id": "r_QW2FHHGcr-"
      },
      "outputs": [],
      "source": [
        "df.to_excel('info.xlsx')"
      ]
    },
    {
      "cell_type": "code",
      "execution_count": 98,
      "metadata": {
        "id": "ltjh794NFDE4"
      },
      "outputs": [],
      "source": [
        "df.to_csv('info.csv')"
      ]
    }
  ],
  "metadata": {
    "colab": {
      "collapsed_sections": [],
      "name": "yanolja-info.ipynb",
      "provenance": []
    },
    "kernelspec": {
      "display_name": "Python 3",
      "name": "python3"
    },
    "language_info": {
      "name": "python"
    }
  },
  "nbformat": 4,
  "nbformat_minor": 0
}
